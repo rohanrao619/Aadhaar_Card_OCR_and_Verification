{
  "nbformat": 4,
  "nbformat_minor": 0,
  "metadata": {
    "colab": {
      "name": "Aadhaar_OCR.ipynb",
      "provenance": [],
      "collapsed_sections": []
    },
    "kernelspec": {
      "name": "python3",
      "display_name": "Python 3"
    }
  },
  "cells": [
    {
      "cell_type": "code",
      "metadata": {
        "id": "3ip2b7spdXYA",
        "colab_type": "code",
        "colab": {}
      },
      "source": [
        "# Mount Google Drive if working on Colab\n",
        "\n",
        "from google.colab import drive\n",
        "drive.mount(\"/drive\")"
      ],
      "execution_count": 0,
      "outputs": []
    },
    {
      "cell_type": "code",
      "metadata": {
        "id": "1j0qmCHvcXqI",
        "colab_type": "code",
        "colab": {}
      },
      "source": [
        "# Install Pytesseract and Image Super Resolition (ISR) Library \n",
        "\n",
        "!sudo apt install tesseract-ocr\n",
        "!pip install pytesseract\n",
        "!pip install ISR"
      ],
      "execution_count": 0,
      "outputs": []
    },
    {
      "cell_type": "code",
      "metadata": {
        "id": "-_PCWR-ldNrK",
        "colab_type": "code",
        "colab": {}
      },
      "source": [
        "# Import required packages\n",
        "\n",
        "import cv2\n",
        "import numpy as np\n",
        "import matplotlib.pyplot as plt\n",
        "import re\n",
        "from PIL import Image\n",
        "import pytesseract as ocr\n",
        "from ISR.models import RRDN"
      ],
      "execution_count": 0,
      "outputs": []
    },
    {
      "cell_type": "code",
      "metadata": {
        "id": "Y4_qua_Ouze0",
        "colab_type": "code",
        "colab": {}
      },
      "source": [
        "# Load Pretrained ESRGAN Model\n",
        "\n",
        "SR_Model = RRDN(weights='gans')"
      ],
      "execution_count": 0,
      "outputs": []
    },
    {
      "cell_type": "code",
      "metadata": {
        "id": "AbsjAIlPm-9r",
        "colab_type": "code",
        "colab": {}
      },
      "source": [
        "# Verhoeff Algorithm\n",
        "\n",
        "multiplication_table = (\n",
        "    (0, 1, 2, 3, 4, 5, 6, 7, 8, 9),\n",
        "    (1, 2, 3, 4, 0, 6, 7, 8, 9, 5),\n",
        "    (2, 3, 4, 0, 1, 7, 8, 9, 5, 6),\n",
        "    (3, 4, 0, 1, 2, 8, 9, 5, 6, 7),\n",
        "    (4, 0, 1, 2, 3, 9, 5, 6, 7, 8),\n",
        "    (5, 9, 8, 7, 6, 0, 4, 3, 2, 1),\n",
        "    (6, 5, 9, 8, 7, 1, 0, 4, 3, 2),\n",
        "    (7, 6, 5, 9, 8, 2, 1, 0, 4, 3),\n",
        "    (8, 7, 6, 5, 9, 3, 2, 1, 0, 4),\n",
        "    (9, 8, 7, 6, 5, 4, 3, 2, 1, 0))\n",
        "\n",
        "permutation_table = (\n",
        "    (0, 1, 2, 3, 4, 5, 6, 7, 8, 9),\n",
        "    (1, 5, 7, 6, 2, 8, 3, 0, 9, 4),\n",
        "    (5, 8, 0, 3, 7, 9, 6, 1, 4, 2),\n",
        "    (8, 9, 1, 6, 0, 4, 3, 5, 2, 7),\n",
        "    (9, 4, 5, 3, 1, 2, 6, 8, 7, 0),\n",
        "    (4, 2, 8, 6, 5, 7, 3, 9, 0, 1),\n",
        "    (2, 7, 9, 3, 8, 0, 6, 4, 1, 5),\n",
        "    (7, 0, 4, 6, 9, 1, 3, 2, 5, 8))\n",
        "\n",
        "def compute_checksum(number):\n",
        "    \n",
        "    \"\"\"Calculate the Verhoeff checksum over the provided number. The checksum\n",
        "    is returned as an int. Valid numbers should have a checksum of 0.\"\"\"\n",
        "    \n",
        "    # transform number list\n",
        "    number = tuple(int(n) for n in reversed(str(number)))\n",
        "    \n",
        "    # calculate checksum\n",
        "    checksum = 0\n",
        "    \n",
        "    for i, n in enumerate(number):\n",
        "        checksum = multiplication_table[checksum][permutation_table[i % 8][n]]\n",
        "    \n",
        "    return checksum"
      ],
      "execution_count": 0,
      "outputs": []
    },
    {
      "cell_type": "code",
      "metadata": {
        "id": "LaGcwmHjt196",
        "colab_type": "code",
        "colab": {}
      },
      "source": [
        "# Path to Input Image\n",
        "\n",
        "input_path = \"/drive/My Drive/Flipr/data/1.png\""
      ],
      "execution_count": 0,
      "outputs": []
    },
    {
      "cell_type": "code",
      "metadata": {
        "id": "pQV6xVs0t_3T",
        "colab_type": "code",
        "colab": {}
      },
      "source": [
        "# Load Image and Convert to Grayscale\n",
        "\n",
        "img = Image.open(input_path).convert('LA')\n",
        "img.save('grayscale.png')"
      ],
      "execution_count": 0,
      "outputs": []
    },
    {
      "cell_type": "code",
      "metadata": {
        "id": "YnvLA9F0mlCQ",
        "colab_type": "code",
        "colab": {}
      },
      "source": [
        "# OCR using Pytesseract\n",
        "\n",
        "settings = ('-l eng --oem 3 --psm 11')\n",
        "\n",
        "result = ocr.image_to_string(Image.open('grayscale.png'),config=settings)\n",
        "bounding_boxes = ocr.image_to_boxes(Image.open('grayscale.png'),config=settings).split(\" 0\\n\")\n",
        "\n",
        "print(result)\n",
        "bounding_boxes"
      ],
      "execution_count": 0,
      "outputs": []
    },
    {
      "cell_type": "code",
      "metadata": {
        "id": "LhdfXNYOmwUq",
        "colab_type": "code",
        "colab": {}
      },
      "source": [
        "# Search Possible UIDs with Bounding Boxes\n",
        "\n",
        "start_char_pos = 0\n",
        "\n",
        "lines = result.split('\\n')\n",
        "possible_UIDs = []\n",
        "\n",
        "for line in lines:\n",
        "  \n",
        "  words = line.split()\n",
        "\n",
        "  if(len(words)==0):\n",
        "    continue\n",
        "\n",
        "  Combined = \"\".join(words)\n",
        "\n",
        "  UID = re.search(\"[0-9]{12}\",Combined)    \n",
        "\n",
        "  if UID!=None:\n",
        "\n",
        "    # Check Validity\n",
        "\n",
        "    if compute_checksum(int(UID.group())) == 0:\n",
        "      possible_UIDs.append([int(UID.group()),start_char_pos + UID.start()])\n",
        "\n",
        "  start_char_pos += len(Combined)\n",
        "  print(Combined,start_char_pos)\n",
        "\n",
        "# Get Unique Possible UIDs\n",
        "\n",
        "possible_UIDs = np.unique(possible_UIDs,axis=0)"
      ],
      "execution_count": 0,
      "outputs": []
    },
    {
      "cell_type": "code",
      "metadata": {
        "id": "J2WRTbZ0nAg2",
        "colab_type": "code",
        "outputId": "19d42a67-f502-4a7e-aade-b1c2d2f56e71",
        "colab": {
          "base_uri": "https://localhost:8080/",
          "height": 34
        }
      },
      "source": [
        "# Print Results\n",
        "\n",
        "print(possible_UIDs[:,0])"
      ],
      "execution_count": 47,
      "outputs": [
        {
          "output_type": "stream",
          "text": [
            "[704809741779]\n"
          ],
          "name": "stdout"
        }
      ]
    },
    {
      "cell_type": "code",
      "metadata": {
        "id": "NpOCvorHuI0b",
        "colab_type": "code",
        "colab": {}
      },
      "source": [
        "# Mask found UIDs\n",
        "\n",
        "img = Image.open(input_path)\n",
        "pixels = img.load()\n",
        "\n",
        "for UID in possible_UIDs:\n",
        "\n",
        "  top_corner = bounding_boxes[UID[1]].split()\n",
        "  bottom_corner = bounding_boxes[UID[1] + 7].split()\n",
        "\n",
        "  for x in range(int(top_corner[1]),int(bottom_corner[3])+1):\n",
        "      for y in range(img.height-int(top_corner[4]),img.height-int(bottom_corner[2])+1):\n",
        "          pixels[x, y] = (0,0,0)\n",
        "\n",
        "img.save(\"masked_img.png\")"
      ],
      "execution_count": 0,
      "outputs": []
    },
    {
      "cell_type": "code",
      "metadata": {
        "id": "DTVsJdfKvEmz",
        "colab_type": "code",
        "colab": {}
      },
      "source": [
        "# Show Original and Masked Images\n",
        "\n",
        "plt.figure(figsize=(10,8))\n",
        "plt.subplot(2,1,1)\n",
        "plt.title(\"Original\")\n",
        "plt.imshow(Image.open(input_path))\n",
        "\n",
        "plt.subplot(2,1,2)\n",
        "plt.title(\"Masked\")\n",
        "plt.imshow(Image.open(\"masked_img.png\"))\n",
        "\n",
        "plt.show()"
      ],
      "execution_count": 0,
      "outputs": []
    }
  ]
}