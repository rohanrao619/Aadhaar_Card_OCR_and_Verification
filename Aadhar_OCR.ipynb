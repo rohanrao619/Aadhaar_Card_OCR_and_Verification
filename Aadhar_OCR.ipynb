{
  "nbformat": 4,
  "nbformat_minor": 0,
  "metadata": {
    "colab": {
      "name": "Aadhar_OCR.ipynb",
      "provenance": [],
      "collapsed_sections": []
    },
    "kernelspec": {
      "name": "python3",
      "display_name": "Python 3"
    }
  },
  "cells": [
    {
      "cell_type": "code",
      "metadata": {
        "id": "1j0qmCHvcXqI",
        "colab_type": "code",
        "colab": {}
      },
      "source": [
        "!sudo apt install tesseract-ocr\n",
        "!pip install pytesseract"
      ],
      "execution_count": 0,
      "outputs": []
    },
    {
      "cell_type": "code",
      "metadata": {
        "id": "-_PCWR-ldNrK",
        "colab_type": "code",
        "colab": {}
      },
      "source": [
        "import pytesseract as ocr\n",
        "from PIL import Image\n",
        "import re"
      ],
      "execution_count": 0,
      "outputs": []
    },
    {
      "cell_type": "code",
      "metadata": {
        "id": "3ip2b7spdXYA",
        "colab_type": "code",
        "colab": {}
      },
      "source": [
        "from google.colab import drive\n",
        "drive.mount(\"/drive\")"
      ],
      "execution_count": 0,
      "outputs": []
    },
    {
      "cell_type": "code",
      "metadata": {
        "id": "77KjReL4dhuG",
        "colab_type": "code",
        "colab": {}
      },
      "source": [
        "img = Image.open(\"/drive/My Drive/Colab Notebooks/test.png\")\n",
        "img = img.convert(mode='RGBA')\n",
        "pixels = img.load()\n",
        "\n",
        "opacity_threshold = 200\n",
        "\n",
        "for x in range(img.size[0]):\n",
        "    for y in range(img.size[1]):\n",
        "        if pixels[x, y][0] < opacity_threshold or pixels[x, y][1] < opacity_threshold or pixels[x, y][2] < opacity_threshold:\n",
        "            pixels[x, y] = (0, 0, 0, 255)\n",
        "        else:\n",
        "            pixels[x, y] = (255, 255, 255, 255)\n",
        "\n",
        "img.save(\"final.png\")"
      ],
      "execution_count": 0,
      "outputs": []
    }
  ]
}